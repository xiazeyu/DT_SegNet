{
  "cells": [
    {
      "cell_type": "markdown",
      "metadata": {
        "id": "ENGdLb-vBpcb"
      },
      "source": [
        "# Import packages"
      ]
    },
    {
      "cell_type": "code",
      "execution_count": 1,
      "metadata": {
        "id": "nw3ipHHaCS6Q"
      },
      "outputs": [],
      "source": [
        "from pathlib import Path\n"
      ]
    },
    {
      "cell_type": "markdown",
      "metadata": {
        "id": "h0JxsE4LBxaR"
      },
      "source": [
        "# Download codes, mount Google Drive folder"
      ]
    },
    {
      "cell_type": "code",
      "execution_count": 2,
      "metadata": {
        "colab": {
          "base_uri": "https://localhost:8080/"
        },
        "id": "5N-aTosRC2wU",
        "outputId": "a36e7b05-13f9-413b-8bd8-c00afc14f1df"
      },
      "outputs": [
        {
          "output_type": "stream",
          "name": "stdout",
          "text": [
            "Cloning into 'DT_SegNet'...\n",
            "remote: Enumerating objects: 667, done.\u001b[K\n",
            "remote: Counting objects: 100% (420/420), done.\u001b[K\n",
            "remote: Compressing objects: 100% (344/344), done.\u001b[K\n",
            "remote: Total 667 (delta 76), reused 412 (delta 70), pack-reused 247\u001b[K\n",
            "Receiving objects: 100% (667/667), 13.32 MiB | 22.04 MiB/s, done.\n",
            "Resolving deltas: 100% (114/114), done.\n",
            "/content/DT_SegNet\n"
          ]
        }
      ],
      "source": [
        "!git clone https://github.com/xiazeyu/DT_SegNet.git\n",
        "%cd DT_SegNet\n"
      ]
    },
    {
      "cell_type": "code",
      "execution_count": 3,
      "metadata": {
        "colab": {
          "base_uri": "https://localhost:8080/"
        },
        "id": "UkdG7vzWBwm2",
        "outputId": "7cf59100-ac85-46eb-a560-844c7a4e969e"
      },
      "outputs": [
        {
          "output_type": "stream",
          "name": "stdout",
          "text": [
            "Mounted at /content/drive\n"
          ]
        }
      ],
      "source": [
        "from google.colab import drive\n",
        "drive.mount('/content/drive')\n",
        "Path('/content/drive/MyDrive/DT-SegNet').mkdir(exist_ok=True, parents=True)\n"
      ]
    },
    {
      "cell_type": "markdown",
      "metadata": {
        "id": "ZJ2mrQ2QHGkn"
      },
      "source": [
        "# Install dependencies"
      ]
    },
    {
      "cell_type": "code",
      "execution_count": 4,
      "metadata": {
        "colab": {
          "base_uri": "https://localhost:8080/"
        },
        "id": "7hgZCfSwHGRo",
        "outputId": "75616259-252d-4fdf-ff34-eb5d05d9a211"
      },
      "outputs": [
        {
          "output_type": "stream",
          "name": "stdout",
          "text": [
            "Looking in indexes: https://pypi.org/simple, https://us-python.pkg.dev/colab-wheels/public/simple/\n",
            "Requirement already satisfied: matplotlib>=3.2.2 in /usr/local/lib/python3.8/dist-packages (from -r 1_Detection_Model/requirements.txt (line 5)) (3.2.2)\n",
            "Requirement already satisfied: numpy>=1.18.5 in /usr/local/lib/python3.8/dist-packages (from -r 1_Detection_Model/requirements.txt (line 6)) (1.21.6)\n",
            "Requirement already satisfied: opencv-python>=4.1.1 in /usr/local/lib/python3.8/dist-packages (from -r 1_Detection_Model/requirements.txt (line 7)) (4.6.0.66)\n",
            "Requirement already satisfied: Pillow>=7.1.2 in /usr/local/lib/python3.8/dist-packages (from -r 1_Detection_Model/requirements.txt (line 8)) (7.1.2)\n",
            "Requirement already satisfied: PyYAML>=5.3.1 in /usr/local/lib/python3.8/dist-packages (from -r 1_Detection_Model/requirements.txt (line 9)) (6.0)\n",
            "Requirement already satisfied: requests>=2.23.0 in /usr/local/lib/python3.8/dist-packages (from -r 1_Detection_Model/requirements.txt (line 10)) (2.25.1)\n",
            "Requirement already satisfied: scipy>=1.4.1 in /usr/local/lib/python3.8/dist-packages (from -r 1_Detection_Model/requirements.txt (line 11)) (1.7.3)\n",
            "Requirement already satisfied: torch>=1.7.0 in /usr/local/lib/python3.8/dist-packages (from -r 1_Detection_Model/requirements.txt (line 12)) (1.13.0+cu116)\n",
            "Requirement already satisfied: torchvision>=0.8.1 in /usr/local/lib/python3.8/dist-packages (from -r 1_Detection_Model/requirements.txt (line 13)) (0.14.0+cu116)\n",
            "Requirement already satisfied: tqdm>=4.64.0 in /usr/local/lib/python3.8/dist-packages (from -r 1_Detection_Model/requirements.txt (line 14)) (4.64.1)\n",
            "Requirement already satisfied: protobuf<=3.20.1 in /usr/local/lib/python3.8/dist-packages (from -r 1_Detection_Model/requirements.txt (line 15)) (3.19.6)\n",
            "Requirement already satisfied: tensorboard>=2.4.1 in /usr/local/lib/python3.8/dist-packages (from -r 1_Detection_Model/requirements.txt (line 18)) (2.9.1)\n",
            "Requirement already satisfied: pandas>=1.1.4 in /usr/local/lib/python3.8/dist-packages (from -r 1_Detection_Model/requirements.txt (line 23)) (1.3.5)\n",
            "Requirement already satisfied: seaborn>=0.11.0 in /usr/local/lib/python3.8/dist-packages (from -r 1_Detection_Model/requirements.txt (line 24)) (0.11.2)\n",
            "Requirement already satisfied: ipython in /usr/local/lib/python3.8/dist-packages (from -r 1_Detection_Model/requirements.txt (line 38)) (7.9.0)\n",
            "Requirement already satisfied: psutil in /usr/local/lib/python3.8/dist-packages (from -r 1_Detection_Model/requirements.txt (line 39)) (5.4.8)\n",
            "Collecting thop>=0.1.1\n",
            "  Downloading thop-0.1.1.post2209072238-py3-none-any.whl (15 kB)\n",
            "Requirement already satisfied: pycocotools>=2.0 in /usr/local/lib/python3.8/dist-packages (from -r 1_Detection_Model/requirements.txt (line 42)) (2.0.6)\n",
            "Requirement already satisfied: cycler>=0.10 in /usr/local/lib/python3.8/dist-packages (from matplotlib>=3.2.2->-r 1_Detection_Model/requirements.txt (line 5)) (0.11.0)\n",
            "Requirement already satisfied: pyparsing!=2.0.4,!=2.1.2,!=2.1.6,>=2.0.1 in /usr/local/lib/python3.8/dist-packages (from matplotlib>=3.2.2->-r 1_Detection_Model/requirements.txt (line 5)) (3.0.9)\n",
            "Requirement already satisfied: kiwisolver>=1.0.1 in /usr/local/lib/python3.8/dist-packages (from matplotlib>=3.2.2->-r 1_Detection_Model/requirements.txt (line 5)) (1.4.4)\n",
            "Requirement already satisfied: python-dateutil>=2.1 in /usr/local/lib/python3.8/dist-packages (from matplotlib>=3.2.2->-r 1_Detection_Model/requirements.txt (line 5)) (2.8.2)\n",
            "Requirement already satisfied: certifi>=2017.4.17 in /usr/local/lib/python3.8/dist-packages (from requests>=2.23.0->-r 1_Detection_Model/requirements.txt (line 10)) (2022.12.7)\n",
            "Requirement already satisfied: chardet<5,>=3.0.2 in /usr/local/lib/python3.8/dist-packages (from requests>=2.23.0->-r 1_Detection_Model/requirements.txt (line 10)) (4.0.0)\n",
            "Requirement already satisfied: urllib3<1.27,>=1.21.1 in /usr/local/lib/python3.8/dist-packages (from requests>=2.23.0->-r 1_Detection_Model/requirements.txt (line 10)) (1.24.3)\n",
            "Requirement already satisfied: idna<3,>=2.5 in /usr/local/lib/python3.8/dist-packages (from requests>=2.23.0->-r 1_Detection_Model/requirements.txt (line 10)) (2.10)\n",
            "Requirement already satisfied: typing-extensions in /usr/local/lib/python3.8/dist-packages (from torch>=1.7.0->-r 1_Detection_Model/requirements.txt (line 12)) (4.4.0)\n",
            "Requirement already satisfied: markdown>=2.6.8 in /usr/local/lib/python3.8/dist-packages (from tensorboard>=2.4.1->-r 1_Detection_Model/requirements.txt (line 18)) (3.4.1)\n",
            "Requirement already satisfied: absl-py>=0.4 in /usr/local/lib/python3.8/dist-packages (from tensorboard>=2.4.1->-r 1_Detection_Model/requirements.txt (line 18)) (1.3.0)\n",
            "Requirement already satisfied: google-auth-oauthlib<0.5,>=0.4.1 in /usr/local/lib/python3.8/dist-packages (from tensorboard>=2.4.1->-r 1_Detection_Model/requirements.txt (line 18)) (0.4.6)\n",
            "Requirement already satisfied: grpcio>=1.24.3 in /usr/local/lib/python3.8/dist-packages (from tensorboard>=2.4.1->-r 1_Detection_Model/requirements.txt (line 18)) (1.51.1)\n",
            "Requirement already satisfied: werkzeug>=1.0.1 in /usr/local/lib/python3.8/dist-packages (from tensorboard>=2.4.1->-r 1_Detection_Model/requirements.txt (line 18)) (1.0.1)\n",
            "Requirement already satisfied: tensorboard-plugin-wit>=1.6.0 in /usr/local/lib/python3.8/dist-packages (from tensorboard>=2.4.1->-r 1_Detection_Model/requirements.txt (line 18)) (1.8.1)\n",
            "Requirement already satisfied: google-auth<3,>=1.6.3 in /usr/local/lib/python3.8/dist-packages (from tensorboard>=2.4.1->-r 1_Detection_Model/requirements.txt (line 18)) (2.15.0)\n",
            "Requirement already satisfied: setuptools>=41.0.0 in /usr/local/lib/python3.8/dist-packages (from tensorboard>=2.4.1->-r 1_Detection_Model/requirements.txt (line 18)) (57.4.0)\n",
            "Requirement already satisfied: wheel>=0.26 in /usr/local/lib/python3.8/dist-packages (from tensorboard>=2.4.1->-r 1_Detection_Model/requirements.txt (line 18)) (0.38.4)\n",
            "Requirement already satisfied: tensorboard-data-server<0.7.0,>=0.6.0 in /usr/local/lib/python3.8/dist-packages (from tensorboard>=2.4.1->-r 1_Detection_Model/requirements.txt (line 18)) (0.6.1)\n",
            "Requirement already satisfied: pytz>=2017.3 in /usr/local/lib/python3.8/dist-packages (from pandas>=1.1.4->-r 1_Detection_Model/requirements.txt (line 23)) (2022.7)\n",
            "Requirement already satisfied: traitlets>=4.2 in /usr/local/lib/python3.8/dist-packages (from ipython->-r 1_Detection_Model/requirements.txt (line 38)) (5.7.1)\n",
            "Requirement already satisfied: pickleshare in /usr/local/lib/python3.8/dist-packages (from ipython->-r 1_Detection_Model/requirements.txt (line 38)) (0.7.5)\n",
            "Requirement already satisfied: pexpect in /usr/local/lib/python3.8/dist-packages (from ipython->-r 1_Detection_Model/requirements.txt (line 38)) (4.8.0)\n",
            "Requirement already satisfied: prompt-toolkit<2.1.0,>=2.0.0 in /usr/local/lib/python3.8/dist-packages (from ipython->-r 1_Detection_Model/requirements.txt (line 38)) (2.0.10)\n",
            "Collecting jedi>=0.10\n",
            "  Downloading jedi-0.18.2-py2.py3-none-any.whl (1.6 MB)\n",
            "\u001b[2K     \u001b[90m━━━━━━━━━━━━━━━━━━━━━━━━━━━━━━━━━━━━━━━━\u001b[0m \u001b[32m1.6/1.6 MB\u001b[0m \u001b[31m27.6 MB/s\u001b[0m eta \u001b[36m0:00:00\u001b[0m\n",
            "\u001b[?25hRequirement already satisfied: backcall in /usr/local/lib/python3.8/dist-packages (from ipython->-r 1_Detection_Model/requirements.txt (line 38)) (0.2.0)\n",
            "Requirement already satisfied: pygments in /usr/local/lib/python3.8/dist-packages (from ipython->-r 1_Detection_Model/requirements.txt (line 38)) (2.6.1)\n",
            "Requirement already satisfied: decorator in /usr/local/lib/python3.8/dist-packages (from ipython->-r 1_Detection_Model/requirements.txt (line 38)) (4.4.2)\n",
            "Requirement already satisfied: six>=1.9.0 in /usr/local/lib/python3.8/dist-packages (from google-auth<3,>=1.6.3->tensorboard>=2.4.1->-r 1_Detection_Model/requirements.txt (line 18)) (1.15.0)\n",
            "Requirement already satisfied: rsa<5,>=3.1.4 in /usr/local/lib/python3.8/dist-packages (from google-auth<3,>=1.6.3->tensorboard>=2.4.1->-r 1_Detection_Model/requirements.txt (line 18)) (4.9)\n",
            "Requirement already satisfied: cachetools<6.0,>=2.0.0 in /usr/local/lib/python3.8/dist-packages (from google-auth<3,>=1.6.3->tensorboard>=2.4.1->-r 1_Detection_Model/requirements.txt (line 18)) (5.2.0)\n",
            "Requirement already satisfied: pyasn1-modules>=0.2.1 in /usr/local/lib/python3.8/dist-packages (from google-auth<3,>=1.6.3->tensorboard>=2.4.1->-r 1_Detection_Model/requirements.txt (line 18)) (0.2.8)\n",
            "Requirement already satisfied: requests-oauthlib>=0.7.0 in /usr/local/lib/python3.8/dist-packages (from google-auth-oauthlib<0.5,>=0.4.1->tensorboard>=2.4.1->-r 1_Detection_Model/requirements.txt (line 18)) (1.3.1)\n",
            "Requirement already satisfied: parso<0.9.0,>=0.8.0 in /usr/local/lib/python3.8/dist-packages (from jedi>=0.10->ipython->-r 1_Detection_Model/requirements.txt (line 38)) (0.8.3)\n",
            "Requirement already satisfied: importlib-metadata>=4.4 in /usr/local/lib/python3.8/dist-packages (from markdown>=2.6.8->tensorboard>=2.4.1->-r 1_Detection_Model/requirements.txt (line 18)) (5.2.0)\n",
            "Requirement already satisfied: wcwidth in /usr/local/lib/python3.8/dist-packages (from prompt-toolkit<2.1.0,>=2.0.0->ipython->-r 1_Detection_Model/requirements.txt (line 38)) (0.2.5)\n",
            "Requirement already satisfied: ptyprocess>=0.5 in /usr/local/lib/python3.8/dist-packages (from pexpect->ipython->-r 1_Detection_Model/requirements.txt (line 38)) (0.7.0)\n",
            "Requirement already satisfied: zipp>=0.5 in /usr/local/lib/python3.8/dist-packages (from importlib-metadata>=4.4->markdown>=2.6.8->tensorboard>=2.4.1->-r 1_Detection_Model/requirements.txt (line 18)) (3.11.0)\n",
            "Requirement already satisfied: pyasn1<0.5.0,>=0.4.6 in /usr/local/lib/python3.8/dist-packages (from pyasn1-modules>=0.2.1->google-auth<3,>=1.6.3->tensorboard>=2.4.1->-r 1_Detection_Model/requirements.txt (line 18)) (0.4.8)\n",
            "Requirement already satisfied: oauthlib>=3.0.0 in /usr/local/lib/python3.8/dist-packages (from requests-oauthlib>=0.7.0->google-auth-oauthlib<0.5,>=0.4.1->tensorboard>=2.4.1->-r 1_Detection_Model/requirements.txt (line 18)) (3.2.2)\n",
            "Installing collected packages: jedi, thop\n",
            "Successfully installed jedi-0.18.2 thop-0.1.1.post2209072238\n"
          ]
        }
      ],
      "source": [
        "%pip install -r 1_Detection_Model/requirements.txt\n"
      ]
    },
    {
      "cell_type": "markdown",
      "metadata": {
        "id": "KMAnyphqHWkM"
      },
      "source": [
        "# Checks installation"
      ]
    },
    {
      "cell_type": "code",
      "execution_count": 5,
      "metadata": {
        "colab": {
          "base_uri": "https://localhost:8080/"
        },
        "id": "3CetB-CUHzrH",
        "outputId": "4e61b920-7c8c-41e8-f06f-6d671321ab54"
      },
      "outputs": [
        {
          "output_type": "stream",
          "name": "stdout",
          "text": [
            "/content/DT_SegNet/1_Detection_Model\n"
          ]
        }
      ],
      "source": [
        "%cd 1_Detection_Model\n"
      ]
    },
    {
      "cell_type": "code",
      "execution_count": 6,
      "metadata": {
        "colab": {
          "base_uri": "https://localhost:8080/"
        },
        "id": "7kQ5vo5yHUkw",
        "outputId": "3090e089-b02e-4990-d3dd-b51d0ea47e59"
      },
      "outputs": [
        {
          "output_type": "stream",
          "name": "stderr",
          "text": [
            "INFO:yolov5:YOLOv5 🚀 2023-1-4 Python-3.8.16 torch-1.13.0+cu116 CUDA:0 (Tesla T4, 15110MiB)\n",
            "YOLOv5 🚀 2023-1-4 Python-3.8.16 torch-1.13.0+cu116 CUDA:0 (Tesla T4, 15110MiB)\n"
          ]
        },
        {
          "output_type": "stream",
          "name": "stdout",
          "text": [
            "Setup complete ✅ (2 CPUs, 12.7 GB RAM, 23.1/166.8 GB disk)\n"
          ]
        }
      ],
      "source": [
        "import torch\n",
        "import utils\n",
        "display = utils.notebook_init()\n"
      ]
    },
    {
      "cell_type": "markdown",
      "metadata": {
        "id": "4jei73ZlIvnv"
      },
      "source": [
        "# Train model"
      ]
    },
    {
      "cell_type": "code",
      "execution_count": null,
      "metadata": {
        "id": "k0E7fiIHIebo"
      },
      "outputs": [],
      "source": [
        "# setup logger\n",
        "%load_ext tensorboard\n",
        "%tensorboard --logdir \"/content/drive/MyDrive/DT-SegNet/Detection_Model_Output\"\n"
      ]
    },
    {
      "cell_type": "code",
      "execution_count": 8,
      "metadata": {
        "colab": {
          "base_uri": "https://localhost:8080/"
        },
        "id": "xuwWUejkhft5",
        "outputId": "badfaf85-894f-434a-847e-b827ee2ba7a5"
      },
      "outputs": [
        {
          "output_type": "stream",
          "name": "stdout",
          "text": [
            "\u001b[34m\u001b[1mtrain: \u001b[0mweights=yolov5l6.pt, cfg=, data=dtsegnet.yaml, hyp=data/hyps/hyp.scratch-low.yaml, epochs=2, batch_size=-1, imgsz=1280, rect=False, resume=False, nosave=False, noval=False, noautoanchor=False, noplots=False, evolve=None, bucket=, cache=ram, image_weights=False, device=, multi_scale=False, single_cls=False, optimizer=SGD, sync_bn=False, workers=8, project=/content/drive/MyDrive/DT-SegNet/Detection_Model_Output, name=exp, exist_ok=False, quad=False, cos_lr=False, label_smoothing=0.0, patience=100, freeze=[0], save_period=-1, seed=0, local_rank=-1, entity=None, upload_dataset=False, bbox_interval=-1, artifact_alias=latest\n",
            "\u001b[34m\u001b[1mgithub: \u001b[0mskipping check (not a git repository), for updates see https://github.com/ultralytics/yolov5\n",
            "YOLOv5 🚀 2023-1-4 Python-3.8.16 torch-1.13.0+cu116 CUDA:0 (Tesla T4, 15110MiB)\n",
            "\n",
            "\u001b[34m\u001b[1mhyperparameters: \u001b[0mlr0=0.01, lrf=0.01, momentum=0.937, weight_decay=0.0005, warmup_epochs=3.0, warmup_momentum=0.8, warmup_bias_lr=0.1, box=0.05, cls=0.5, cls_pw=1.0, obj=1.0, obj_pw=1.0, iou_t=0.2, anchor_t=4.0, fl_gamma=0.0, hsv_h=0.015, hsv_s=0.7, hsv_v=0.4, degrees=0.0, translate=0.1, scale=0.5, shear=0.0, perspective=0.0, flipud=0.0, fliplr=0.5, mosaic=1.0, mixup=0.0, copy_paste=0.0\n",
            "\u001b[34m\u001b[1mWeights & Biases: \u001b[0mrun 'pip install wandb' to automatically track and visualize YOLOv5 🚀 runs in Weights & Biases\n",
            "\u001b[34m\u001b[1mClearML: \u001b[0mrun 'pip install clearml' to automatically track, visualize and remotely train YOLOv5 🚀 in ClearML\n",
            "\u001b[34m\u001b[1mTensorBoard: \u001b[0mStart with 'tensorboard --logdir /content/drive/MyDrive/DT-SegNet/Detection_Model_Output', view at http://localhost:6006/\n",
            "Downloading https://ultralytics.com/assets/Arial.ttf to /root/.config/Ultralytics/Arial.ttf...\n",
            "100% 755k/755k [00:00<00:00, 23.8MB/s]\n",
            "Downloading https://github.com/ultralytics/yolov5/releases/download/v6.1/yolov5l6.pt to yolov5l6.pt...\n",
            "100% 147M/147M [00:04<00:00, 35.1MB/s]\n",
            "\n",
            "Overriding model.yaml nc=80 with nc=1\n",
            "\n",
            "                 from  n    params  module                                  arguments                     \n",
            "  0                -1  1      7040  models.common.Conv                      [3, 64, 6, 2, 2]              \n",
            "  1                -1  1     73984  models.common.Conv                      [64, 128, 3, 2]               \n",
            "  2                -1  3    156928  models.common.C3                        [128, 128, 3]                 \n",
            "  3                -1  1    295424  models.common.Conv                      [128, 256, 3, 2]              \n",
            "  4                -1  6   1118208  models.common.C3                        [256, 256, 6]                 \n",
            "  5                -1  1   1180672  models.common.Conv                      [256, 512, 3, 2]              \n",
            "  6                -1  9   6433792  models.common.C3                        [512, 512, 9]                 \n",
            "  7                -1  1   3540480  models.common.Conv                      [512, 768, 3, 2]              \n",
            "  8                -1  3   5611008  models.common.C3                        [768, 768, 3]                 \n",
            "  9                -1  1   7079936  models.common.Conv                      [768, 1024, 3, 2]             \n",
            " 10                -1  3   9971712  models.common.C3                        [1024, 1024, 3]               \n",
            " 11                -1  1   2624512  models.common.SPPF                      [1024, 1024, 5]               \n",
            " 12                -1  1    787968  models.common.Conv                      [1024, 768, 1, 1]             \n",
            " 13                -1  1         0  torch.nn.modules.upsampling.Upsample    [None, 2, 'nearest']          \n",
            " 14           [-1, 8]  1         0  models.common.Concat                    [1]                           \n",
            " 15                -1  3   6200832  models.common.C3                        [1536, 768, 3, False]         \n",
            " 16                -1  1    394240  models.common.Conv                      [768, 512, 1, 1]              \n",
            " 17                -1  1         0  torch.nn.modules.upsampling.Upsample    [None, 2, 'nearest']          \n",
            " 18           [-1, 6]  1         0  models.common.Concat                    [1]                           \n",
            " 19                -1  3   2757632  models.common.C3                        [1024, 512, 3, False]         \n",
            " 20                -1  1    131584  models.common.Conv                      [512, 256, 1, 1]              \n",
            " 21                -1  1         0  torch.nn.modules.upsampling.Upsample    [None, 2, 'nearest']          \n",
            " 22           [-1, 4]  1         0  models.common.Concat                    [1]                           \n",
            " 23                -1  3    690688  models.common.C3                        [512, 256, 3, False]          \n",
            " 24                -1  1    590336  models.common.Conv                      [256, 256, 3, 2]              \n",
            " 25          [-1, 20]  1         0  models.common.Concat                    [1]                           \n",
            " 26                -1  3   2495488  models.common.C3                        [512, 512, 3, False]          \n",
            " 27                -1  1   2360320  models.common.Conv                      [512, 512, 3, 2]              \n",
            " 28          [-1, 16]  1         0  models.common.Concat                    [1]                           \n",
            " 29                -1  3   5807616  models.common.C3                        [1024, 768, 3, False]         \n",
            " 30                -1  1   5309952  models.common.Conv                      [768, 768, 3, 2]              \n",
            " 31          [-1, 12]  1         0  models.common.Concat                    [1]                           \n",
            " 32                -1  3  10496000  models.common.C3                        [1536, 1024, 3, False]        \n",
            " 33  [23, 26, 29, 32]  1     46152  models.yolo.Detect                      [1, [[19, 27, 44, 40, 38, 94], [96, 68, 86, 152, 180, 137], [140, 301, 303, 264, 238, 542], [436, 615, 739, 380, 925, 792]], [256, 512, 768, 1024]]\n",
            "Model summary: 607 layers, 76162504 parameters, 76162504 gradients, 110.5 GFLOPs\n",
            "\n",
            "Transferred 787/795 items from yolov5l6.pt\n",
            "\u001b[34m\u001b[1mAMP: \u001b[0mchecks passed ✅\n",
            "\u001b[34m\u001b[1mAutoBatch: \u001b[0mComputing optimal batch size for --imgsz 1280\n",
            "\u001b[34m\u001b[1mAutoBatch: \u001b[0mCUDA:0 (Tesla T4) 14.76G total, 0.60G reserved, 0.58G allocated, 13.58G free\n",
            "      Params      GFLOPs  GPU_mem (GB)  forward (ms) backward (ms)                   input                  output\n",
            "    76162504       441.9         2.909         169.9         83.03      (1, 3, 1280, 1280)                    list\n",
            "    76162504       883.8         5.090         93.27         113.3      (2, 3, 1280, 1280)                    list\n",
            "    76162504        1768         9.515         180.2           226      (4, 3, 1280, 1280)                    list\n",
            "CUDA out of memory. Tried to allocate 50.00 MiB (GPU 0; 14.76 GiB total capacity; 13.27 GiB already allocated; 25.75 MiB free; 13.41 GiB reserved in total by PyTorch) If reserved memory is >> allocated memory try setting max_split_size_mb to avoid fragmentation.  See documentation for Memory Management and PYTORCH_CUDA_ALLOC_CONF\n",
            "Unable to find a valid cuDNN algorithm to run convolution\n",
            "\u001b[34m\u001b[1mAutoBatch: \u001b[0mUsing batch-size 5 for CUDA:0 11.71G/14.76G (79%) ✅\n",
            "\u001b[34m\u001b[1moptimizer:\u001b[0m SGD(lr=0.01) with parameter groups 131 weight(decay=0.0), 135 weight(decay=0.0005078125), 135 bias\n",
            "\u001b[34m\u001b[1malbumentations: \u001b[0mBlur(p=0.01, blur_limit=(3, 7)), MedianBlur(p=0.01, blur_limit=(3, 7)), ToGray(p=0.01), CLAHE(p=0.01, clip_limit=(1, 4.0), tile_grid_size=(8, 8))\n",
            "\u001b[34m\u001b[1mtrain: \u001b[0mScanning '/content/DT_SegNet/Dataset/train' images and labels...15 found, 0 missing, 0 empty, 0 corrupt: 100% 15/15 [00:00<00:00, 626.41it/s]\n",
            "\u001b[34m\u001b[1mtrain: \u001b[0mNew cache created: /content/DT_SegNet/Dataset/train.cache\n",
            "\u001b[34m\u001b[1mtrain: \u001b[0mCaching images (0.1GB ram): 100% 15/15 [00:00<00:00, 45.92it/s]\n",
            "\u001b[34m\u001b[1mval: \u001b[0mScanning '/content/DT_SegNet/Dataset/val' images and labels...4 found, 0 missing, 0 empty, 0 corrupt: 100% 4/4 [00:00<00:00, 182.79it/s]\n",
            "\u001b[34m\u001b[1mval: \u001b[0mNew cache created: /content/DT_SegNet/Dataset/val.cache\n",
            "\u001b[34m\u001b[1mval: \u001b[0mCaching images (0.0GB ram): 100% 4/4 [00:00<00:00,  9.75it/s]\n",
            "Plotting labels to /content/drive/MyDrive/DT-SegNet/Detection_Model_Output/exp/labels.jpg... \n",
            "\n",
            "\u001b[34m\u001b[1mAutoAnchor: \u001b[0m4.45 anchors/target, 0.999 Best Possible Recall (BPR). Current anchors are a good fit to dataset ✅\n",
            "Image sizes 1280 train, 1280 val\n",
            "Using 2 dataloader workers\n",
            "Logging results to \u001b[1m/content/drive/MyDrive/DT-SegNet/Detection_Model_Output/exp\u001b[0m\n",
            "Starting training for 2 epochs...\n",
            "\n",
            "     Epoch   gpu_mem       box       obj       cls    labels  img_size\n",
            "       0/1     13.2G   0.09823    0.5594         0       805      1280: 100% 3/3 [00:07<00:00,  2.41s/it]\n",
            "               Class     Images     Labels          P          R     mAP@.5 mAP@.5:.95:   0% 0/1 [00:00<?, ?it/s]WARNING: NMS time limit 0.420s exceeded\n",
            "               Class     Images     Labels          P          R     mAP@.5 mAP@.5:.95: 100% 1/1 [00:01<00:00,  2.00s/it]\n",
            "                 all          4        355          0          0          0          0\n",
            "\n",
            "     Epoch   gpu_mem       box       obj       cls    labels  img_size\n",
            "       1/1     13.2G    0.1013    0.5649         0      1787      1280: 100% 3/3 [00:02<00:00,  1.23it/s]\n",
            "               Class     Images     Labels          P          R     mAP@.5 mAP@.5:.95: 100% 1/1 [00:00<00:00,  2.20it/s]\n",
            "                 all          4        355          0          0          0          0\n",
            "\n",
            "2 epochs completed in 0.006 hours.\n",
            "Optimizer stripped from /content/drive/MyDrive/DT-SegNet/Detection_Model_Output/exp/weights/last.pt, 153.7MB\n",
            "Optimizer stripped from /content/drive/MyDrive/DT-SegNet/Detection_Model_Output/exp/weights/best.pt, 153.7MB\n",
            "\n",
            "Validating /content/drive/MyDrive/DT-SegNet/Detection_Model_Output/exp/weights/best.pt...\n",
            "Fusing layers... \n",
            "Model summary: 476 layers, 76118664 parameters, 0 gradients, 109.9 GFLOPs\n",
            "               Class     Images     Labels          P          R     mAP@.5 mAP@.5:.95: 100% 1/1 [00:00<00:00,  1.85it/s]\n",
            "                 all          4        355          0          0          0          0\n",
            "Results saved to \u001b[1m/content/drive/MyDrive/DT-SegNet/Detection_Model_Output/exp\u001b[0m\n"
          ]
        }
      ],
      "source": [
        "# Test run (optional)\n",
        "# YOLOv5l, 1280x1280 input size, pretrained\n",
        "!python train.py --project \"/content/drive/MyDrive/DT-SegNet/Detection_Model_Output\" --seed 0 --img 1280 --data dtsegnet.yaml --cache --batch-size -1 --epochs 2 --weights yolov5l6.pt\n"
      ]
    },
    {
      "cell_type": "markdown",
      "metadata": {
        "id": "GFAUgWVwO0ar"
      },
      "source": [
        "## 640x640 input size, not pretrained"
      ]
    },
    {
      "cell_type": "code",
      "execution_count": null,
      "metadata": {
        "id": "GRUJXaBUI6NS"
      },
      "outputs": [],
      "source": [
        "# YOLOv5n, 640x640 input size, not pretrained\n",
        "!python train.py --project \"/content/drive/MyDrive/DT-SegNet/Detection_Model_Output\" --seed 0 --img 640 --data dtsegnet.yaml --cache --batch-size -1 --epochs 9999 --patience 300 --cfg yolov5n.yaml --weights ''\n"
      ]
    },
    {
      "cell_type": "code",
      "execution_count": null,
      "metadata": {
        "id": "EtHprp5AOUFq"
      },
      "outputs": [],
      "source": [
        "# YOLOv5s, 640x640 input size, not pretrained\n",
        "!python train.py --project \"/content/drive/MyDrive/DT-SegNet/Detection_Model_Output\" --seed 0 --img 640 --data dtsegnet.yaml --cache --batch-size -1 --epochs 9999 --patience 300 --cfg yolov5s.yaml --weights ''\n"
      ]
    },
    {
      "cell_type": "code",
      "execution_count": null,
      "metadata": {
        "id": "QOsRDPKcOUag"
      },
      "outputs": [],
      "source": [
        "# YOLOv5m, 640x640 input size, not pretrained\n",
        "!python train.py --project \"/content/drive/MyDrive/DT-SegNet/Detection_Model_Output\" --seed 0 --img 640 --data dtsegnet.yaml --cache --batch-size -1 --epochs 9999 --patience 300 --cfg yolov5m.yaml --weights ''\n"
      ]
    },
    {
      "cell_type": "code",
      "execution_count": null,
      "metadata": {
        "id": "5WNeYeiyOUUT"
      },
      "outputs": [],
      "source": [
        "# YOLOv5l, 640x640 input size, not pretrained\n",
        "!python train.py --project \"/content/drive/MyDrive/DT-SegNet/Detection_Model_Output\" --seed 0 --img 640 --data dtsegnet.yaml --cache --batch-size -1 --epochs 9999 --patience 300 --cfg yolov5l.yaml --weights ''\n"
      ]
    },
    {
      "cell_type": "markdown",
      "metadata": {
        "id": "lm9sibZxO2ur"
      },
      "source": [
        "## 1280x1280 input size, not pretrained"
      ]
    },
    {
      "cell_type": "code",
      "execution_count": null,
      "metadata": {
        "id": "MARwOshsOslf"
      },
      "outputs": [],
      "source": [
        "# YOLOv5n, 1280x1280 input size, not pretrained\n",
        "!python train.py --project \"/content/drive/MyDrive/DT-SegNet/Detection_Model_Output\" --seed 0 --img 1280 --data dtsegnet.yaml --cache --batch-size -1 --epochs 9999 --patience 300 --cfg yolov5n.yaml --weights ''\n"
      ]
    },
    {
      "cell_type": "code",
      "execution_count": null,
      "metadata": {
        "id": "SguoYPPAOs2P"
      },
      "outputs": [],
      "source": [
        "# YOLOv5s, 1280x1280 input size, not pretrained\n",
        "!python train.py --project \"/content/drive/MyDrive/DT-SegNet/Detection_Model_Output\" --seed 0 --img 1280 --data dtsegnet.yaml --cache --batch-size -1 --epochs 9999 --patience 300 --cfg yolov5s.yaml --weights ''\n"
      ]
    },
    {
      "cell_type": "code",
      "execution_count": null,
      "metadata": {
        "id": "960JmZhaOs_g"
      },
      "outputs": [],
      "source": [
        "# YOLOv5m, 1280x1280 input size, not pretrained\n",
        "!python train.py --project \"/content/drive/MyDrive/DT-SegNet/Detection_Model_Output\" --seed 0 --img 1280 --data dtsegnet.yaml --cache --batch-size -1 --epochs 9999 --patience 300 --cfg yolov5m.yaml --weights ''\n"
      ]
    },
    {
      "cell_type": "code",
      "execution_count": null,
      "metadata": {
        "id": "eCQOAo_TOtH0"
      },
      "outputs": [],
      "source": [
        "# YOLOv5l, 1280x1280 input size, not pretrained\n",
        "!python train.py --project \"/content/drive/MyDrive/DT-SegNet/Detection_Model_Output\" --seed 0 --img 1280 --data dtsegnet.yaml --cache --batch-size -1 --epochs 9999 --patience 300 --cfg yolov5l.yaml --weights ''\n"
      ]
    },
    {
      "cell_type": "markdown",
      "metadata": {
        "id": "xZ10FdHPO-pm"
      },
      "source": [
        "## 1280x1280 input size, pretrained"
      ]
    },
    {
      "cell_type": "code",
      "execution_count": null,
      "metadata": {
        "id": "F6JBnmanOthu"
      },
      "outputs": [],
      "source": [
        "# YOLOv5n, 1280x1280 input size, pretrained\n",
        "!python train.py --project \"/content/drive/MyDrive/DT-SegNet/Detection_Model_Output\" --seed 0 --img 1280 --data dtsegnet.yaml --cache --batch-size -1 --epochs 9999 --patience 300 --weights yolov5n6.pt\n"
      ]
    },
    {
      "cell_type": "code",
      "execution_count": null,
      "metadata": {
        "id": "Yy7N8q38OtsM"
      },
      "outputs": [],
      "source": [
        "# YOLOv5s, 1280x1280 input size, pretrained\n",
        "!python train.py --project \"/content/drive/MyDrive/DT-SegNet/Detection_Model_Output\" --seed 0 --img 1280 --data dtsegnet.yaml --cache --batch-size -1 --epochs 9999 --patience 300 --weights yolov5s6.pt\n"
      ]
    },
    {
      "cell_type": "code",
      "execution_count": null,
      "metadata": {
        "id": "wlAXKbLgOt5c"
      },
      "outputs": [],
      "source": [
        "# YOLOv5m, 1280x1280 input size, pretrained\n",
        "!python train.py --project \"/content/drive/MyDrive/DT-SegNet/Detection_Model_Output\" --seed 0 --img 1280 --data dtsegnet.yaml --cache --batch-size -1 --epochs 9999 --patience 300 --weights yolov5m6.pt\n"
      ]
    },
    {
      "cell_type": "code",
      "execution_count": null,
      "metadata": {
        "id": "RABgULgeOuE6"
      },
      "outputs": [],
      "source": [
        "# YOLOv5l, 1280x1280 input size, pretrained\n",
        "!python train.py --project \"/content/drive/MyDrive/DT-SegNet/Detection_Model_Output\" --seed 0 --img 1280 --data dtsegnet.yaml --cache --batch-size 4 --epochs 9999 --patience 300 --weights yolov5l6.pt\n"
      ]
    },
    {
      "cell_type": "markdown",
      "metadata": {
        "id": "la-f89PSiIGb"
      },
      "source": [
        "# Save to Google Drive"
      ]
    },
    {
      "cell_type": "code",
      "execution_count": 9,
      "metadata": {
        "id": "yqvCvOnCiJ5C"
      },
      "outputs": [],
      "source": [
        "drive.flush_and_unmount()\n"
      ]
    }
  ],
  "metadata": {
    "accelerator": "GPU",
    "colab": {
      "provenance": []
    },
    "gpuClass": "standard",
    "kernelspec": {
      "display_name": "base",
      "language": "python",
      "name": "python3"
    },
    "language_info": {
      "name": "python",
      "version": "3.9.12 (main, Apr  4 2022, 05:22:27) [MSC v.1916 64 bit (AMD64)]"
    },
    "vscode": {
      "interpreter": {
        "hash": "6f8b7e631145923c34cecc001da68a352a16d2d23361f9fbf214a3aa4e404855"
      }
    }
  },
  "nbformat": 4,
  "nbformat_minor": 0
}