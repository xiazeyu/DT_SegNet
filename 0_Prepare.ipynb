{
 "cells": [
  {
   "cell_type": "markdown",
   "id": "cd502a56-2a3b-4e3a-902d-f5cea58e8b00",
   "metadata": {},
   "source": [
    "# DT-SegNet"
   ]
  },
  {
   "cell_type": "markdown",
   "id": "d6490a72-831c-4705-a15b-dd6d5d644750",
   "metadata": {},
   "source": [
    "The root path for this project is `/root/autodl-tmp/`"
   ]
  },
  {
   "cell_type": "markdown",
   "id": "627d8bae-1f9c-4a76-bcd0-98e453c67e0d",
   "metadata": {
    "tags": []
   },
   "source": [
    "## Prepare for environment"
   ]
  },
  {
   "cell_type": "markdown",
   "id": "b944ca8f-f30a-4482-81ec-6dbeb75bdd7b",
   "metadata": {},
   "source": [
    "### Pull from GitHub"
   ]
  },
  {
   "cell_type": "code",
   "execution_count": null,
   "id": "c3f22815-f27c-4c73-b5e3-5d07536cdf38",
   "metadata": {},
   "outputs": [],
   "source": [
    "%cd /root/autodl-tmp\n",
    "!git clone https://github.com/xiazeyu/DT_SegNet.git\n",
    "%cd DT_SegNet"
   ]
  },
  {
   "cell_type": "markdown",
   "id": "0c3fc7d4-e1e3-4b78-8b18-f333452d7c2a",
   "metadata": {
    "tags": []
   },
   "source": [
    "### Install dependencies"
   ]
  },
  {
   "cell_type": "code",
   "execution_count": null,
   "id": "cecc29cc-9b98-4b82-8a75-e4de1bff9b93",
   "metadata": {},
   "outputs": [],
   "source": [
    "!nvidia-smi"
   ]
  },
  {
   "cell_type": "code",
   "execution_count": null,
   "id": "6a444fdc-6fc9-4441-a709-800e3c8731ba",
   "metadata": {},
   "outputs": [],
   "source": [
    "# For detection model\n",
    "\n",
    "%pip install -r 1_Detection_Model/requirements.txt"
   ]
  },
  {
   "cell_type": "code",
   "execution_count": null,
   "id": "ae2f37f9-0e6f-4f96-8c74-004bf4a19687",
   "metadata": {},
   "outputs": [],
   "source": [
    "# For segmentation model\n",
    "\n",
    "# ensure CUDA vision are the same\n",
    "%pip install paddlepaddle-gpu==2.4.1.post116 -f https://www.paddlepaddle.org.cn/whl/linux/mkl/avx/stable.html\n",
    "%pip install -r 3_Segmentation_Model/requirements.txt"
   ]
  },
  {
   "cell_type": "markdown",
   "id": "fc09f6ae-f548-4591-808c-076b17d9642e",
   "metadata": {},
   "source": [
    "### Verify installation"
   ]
  },
  {
   "cell_type": "code",
   "execution_count": null,
   "id": "a246e38c-bd4d-4897-94fb-9d9eb289f4a8",
   "metadata": {},
   "outputs": [],
   "source": [
    "%cd 1_Detection_Model\n",
    "import torch\n",
    "import utils\n",
    "display = utils.notebook_init()\n",
    "%cd ..\n"
   ]
  },
  {
   "cell_type": "code",
   "execution_count": null,
   "id": "670ed144-4df1-43d9-86e2-a4894e786909",
   "metadata": {},
   "outputs": [],
   "source": [
    "import paddle\n",
    "\n",
    "paddle.utils.run_check()\n",
    "print(paddle.__version__)\n"
   ]
  }
 ],
 "metadata": {
  "kernelspec": {
   "display_name": "Python 3 (ipykernel)",
   "language": "python",
   "name": "python3"
  },
  "language_info": {
   "codemirror_mode": {
    "name": "ipython",
    "version": 3
   },
   "file_extension": ".py",
   "mimetype": "text/x-python",
   "name": "python",
   "nbconvert_exporter": "python",
   "pygments_lexer": "ipython3",
   "version": "3.8.10"
  }
 },
 "nbformat": 4,
 "nbformat_minor": 5
}
