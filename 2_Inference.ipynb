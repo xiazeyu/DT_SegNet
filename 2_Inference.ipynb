{
 "cells": [
  {
   "cell_type": "markdown",
   "id": "671f3b4c-e593-4140-8c1a-3b7b61409b14",
   "metadata": {},
   "source": [
    "## Inference"
   ]
  },
  {
   "cell_type": "markdown",
   "id": "1be08693-66f1-4e20-8d9b-d6e3df6492a7",
   "metadata": {},
   "source": [
    "### Import packages"
   ]
  },
  {
   "cell_type": "code",
   "execution_count": null,
   "id": "32492e58-1bad-4c34-95d1-49ebbd87ddbb",
   "metadata": {},
   "outputs": [],
   "source": [
    "from pathlib import Path\n",
    "from PIL import Image\n",
    "from tqdm import tqdm\n",
    "import pandas as pd\n",
    "import numpy as np\n",
    "from matplotlib import pyplot as plt\n"
   ]
  },
  {
   "cell_type": "markdown",
   "id": "0067d324-1f6f-4e19-8544-1934c2f03711",
   "metadata": {
    "id": "jZonbdnLxplt",
    "tags": []
   },
   "source": [
    "### Select detection model"
   ]
  },
  {
   "cell_type": "code",
   "execution_count": null,
   "id": "5585bdac-1cf6-484f-ac9c-b3bbd7d4fb36",
   "metadata": {
    "id": "wyrjZzDrvDwv"
   },
   "outputs": [],
   "source": [
    "#@markdown ### Enter the experiment name for detection model:\n",
    "detection_model_exp_name = 'exp' #@param {type:\"string\"}\n",
    "\n",
    "detection_model_path = f\"/root/autodl-tmp/DT_SegNet/Detection_Model_Output/{detection_model_exp_name}/weights/best.pt\"\n"
   ]
  },
  {
   "cell_type": "markdown",
   "id": "357cba92-9c68-45ee-86ba-852b72eaafce",
   "metadata": {
    "id": "FN5o8fe4xK8z"
   },
   "source": [
    "Or use our trained detection model"
   ]
  },
  {
   "cell_type": "code",
   "execution_count": null,
   "id": "01beb591-54f8-412e-b9d2-daa90da72635",
   "metadata": {
    "colab": {
     "base_uri": "https://localhost:8080/"
    },
    "id": "BTpAyG4hxMND",
    "outputId": "af58e338-3d13-458d-ee43-f7876155e8ce"
   },
   "outputs": [],
   "source": [
    "# download our trained best model\n",
    "\n",
    "Path('/root/autodl-tmp/DT_SegNet/Models').mkdir(exist_ok=True, parents=True)\n",
    "\n",
    "!wget -O /root/autodl-tmp/DT_SegNet/Models/detection.pt https://github.com/xiazeyu/DT_SegNet/releases/latest/download/detection.pt\n",
    "\n",
    "detection_model_path= \"/root/autodl-tmp/DT_SegNet/Models/detection.pt\"\n"
   ]
  },
  {
   "cell_type": "markdown",
   "id": "5878ccc9-d321-412f-a97f-2b36e5fb419e",
   "metadata": {
    "id": "d5SfJv3mxnvC"
   },
   "source": [
    "Then, ensure correct detection model is selected"
   ]
  },
  {
   "cell_type": "code",
   "execution_count": null,
   "id": "c7d67b39-5917-4bf5-a91c-6c0326d5a316",
   "metadata": {
    "colab": {
     "base_uri": "https://localhost:8080/"
    },
    "id": "jaK6N9E0xP_6",
    "outputId": "211cba90-8bfa-4095-d8cd-ac1ef1635355"
   },
   "outputs": [],
   "source": [
    "!stat {detection_model_path}"
   ]
  },
  {
   "cell_type": "markdown",
   "id": "327c2f17-f3bb-4bfb-980d-4a9fcfdc70a3",
   "metadata": {
    "id": "orTjpzub1SsV"
   },
   "source": [
    "## Select segmentation model"
   ]
  },
  {
   "cell_type": "code",
   "execution_count": null,
   "id": "d87bcdbf-a73d-4026-a0b6-a0579cadaf21",
   "metadata": {
    "id": "PmkfSKuE1UE8"
   },
   "outputs": [],
   "source": [
    "#@markdown ### Enter the experiment name for segmentation model:\n",
    "segmentation_model_exp_name = 'B1' #@param {type:\"string\"}\n",
    "\n",
    "segmentation_model_path = f\"/root/autodl-tmp/DT_SegNet/Segmentation_Model_Output/{segmentation_model_exp_name}/best_model/model.pdparams\"\n"
   ]
  },
  {
   "cell_type": "markdown",
   "id": "ffd7874b-f689-43fd-a7d5-4f2866276457",
   "metadata": {
    "id": "IRyUcOkq1qOE"
   },
   "source": [
    "Or use our trained segmentation model"
   ]
  },
  {
   "cell_type": "code",
   "execution_count": null,
   "id": "53ffd836-6025-4045-8257-bf6d69c59ca7",
   "metadata": {
    "colab": {
     "base_uri": "https://localhost:8080/"
    },
    "id": "RH0zbUbn1qr2",
    "outputId": "fe705a1f-aa6f-482d-aaf5-123c48d59e9a"
   },
   "outputs": [],
   "source": [
    "# download our trained best model\n",
    "\n",
    "Path('/root/autodl-tmp/DT_SegNet/Models').mkdir(exist_ok=True, parents=True)\n",
    "\n",
    "!wget -O /root/autodl-tmp/DT_SegNet/Models/segmentation.pdparams https://github.com/xiazeyu/DT_SegNet/releases/latest/download/segmentation.pdparams\n",
    "\n",
    "segmentation_model_path= \"/root/autodl-tmp/DT_SegNet/Models/segmentation.pdparams\"\n"
   ]
  },
  {
   "cell_type": "markdown",
   "id": "1466b600-d15c-492e-962d-dae73e85d64b",
   "metadata": {
    "id": "kyVa7-PH1kHf"
   },
   "source": [
    "Then, ensure correct segmentation model is selected"
   ]
  },
  {
   "cell_type": "code",
   "execution_count": null,
   "id": "9f9827cc-7fef-467e-a310-15ddcb85f082",
   "metadata": {
    "colab": {
     "base_uri": "https://localhost:8080/"
    },
    "id": "ExP7Z7YP1jzt",
    "outputId": "8f75e3ec-531f-4f0e-c33d-8238e6402612"
   },
   "outputs": [],
   "source": [
    "!stat {segmentation_model_path}"
   ]
  },
  {
   "cell_type": "markdown",
   "id": "e701cd60-f347-42b2-9be1-e271e29c0231",
   "metadata": {
    "id": "_-1_Nh5417SI"
   },
   "source": [
    "### Inference"
   ]
  },
  {
   "cell_type": "code",
   "execution_count": null,
   "id": "20519ff3-3126-4537-9251-a42acd277a4b",
   "metadata": {
    "id": "TdzJTOs_39P6"
   },
   "outputs": [],
   "source": [
    "# read YOLO format txt label, and perform dilation\n",
    "def read_labels(label_path, img, dilation = 1.5):\n",
    "    data = pd.read_csv(str(label_path), sep=\" \", header=None,\n",
    "                    names=[\"class\", \"x_center\", \"y_center\", \"width\", \"height\", \"proability\"])\n",
    "    img_x, img_y = img.size\n",
    "    data['x0'] = ((data['x_center'] - dilation * data['width'] / 2) * img_x).astype(\"int\")\n",
    "    data['x1'] = ((data['x_center'] + dilation * data['width'] / 2) * img_x).astype(\"int\")\n",
    "    data['y0'] = ((data['y_center'] - dilation * data['height'] / 2) * img_y).astype(\"int\")\n",
    "    data['y1'] = ((data['y_center'] + dilation * data['height'] / 2) * img_y).astype(\"int\")\n",
    "    return data"
   ]
  },
  {
   "cell_type": "code",
   "execution_count": null,
   "id": "53a4988d-7492-4bf0-acb4-ff3fc25676bd",
   "metadata": {
    "colab": {
     "base_uri": "https://localhost:8080/"
    },
    "id": "VMgqwi2V18QH",
    "outputId": "9aa0c9bb-6700-4eb0-d1a5-e005dec34713"
   },
   "outputs": [],
   "source": [
    "%cd 1_Detection_Model\n",
    "!python detect.py --project \"/root/autodl-tmp/DT_SegNet/Detection_Output\" --weights {detection_model_path} --img 1280 --source /root/autodl-tmp/DT_SegNet/Dataset/test --line-thickness 2 --save-txt --save-conf --save-crop --conf-thres 0.475\n",
    "%cd .."
   ]
  },
  {
   "cell_type": "code",
   "execution_count": null,
   "id": "601f69d3-e9c4-4572-9ccb-bb9e7abd7763",
   "metadata": {
    "id": "7EaGTzqN3Qnu"
   },
   "outputs": [],
   "source": [
    "#@markdown ### Enter the experiment name for detection inference:\n",
    "detection_inference_exp = 'exp' #@param {type:\"string\"}\n",
    "\n",
    "detection_inference_exp_path = f\"/root/autodl-tmp/DT_SegNet/Detection_Output/{detection_inference_exp}\"\n"
   ]
  },
  {
   "cell_type": "code",
   "execution_count": null,
   "id": "bcea9c8d-de0e-496d-80e0-f18cd68972ea",
   "metadata": {
    "id": "ypDc_-AZ3g1M"
   },
   "outputs": [],
   "source": [
    "data_dir = Path('/root/autodl-tmp/DT_SegNet/Dataset/test')\n",
    "label_dir = Path(detection_inference_exp_path) / 'labels'\n",
    "\n",
    "seg_output_dir = Path('/root/autodl-tmp/DT_SegNet/Dataset/Segmentation_Input/')"
   ]
  },
  {
   "cell_type": "code",
   "execution_count": null,
   "id": "a9fea6dd-8d81-4d18-9059-8a2982d06dff",
   "metadata": {
    "colab": {
     "base_uri": "https://localhost:8080/",
     "height": 269,
     "referenced_widgets": [
      "a080c069b4814cc98ac3f1d43f2575c1",
      "51bcf9271b6349cbbc941401fae90754",
      "7888fc55725d46679f573d87e9baa665",
      "00b69d2dfe6d42ed9b75b2f40736b745",
      "1cfb293ca45d41faadec63600db1d1bd",
      "c104f14353ed4d5d9bfbbe08667066c3",
      "4bef387715a14010aa99efa95fdf857a",
      "853f1e2b5d7b4115925a9ef57d837e4a",
      "03c809728a6f4d84a6441ec6eb8a9354",
      "812df93096544c958a9dc39b1a0bfcae",
      "88a750727e4c48b9a17344872d4e97cb",
      "636380b3b6734d39b1aac92e9a852096",
      "8038f77836c74af0a2bef3129de803ae",
      "3a4362a603404e5997b76b4e4e21494f",
      "096299b8fde0485d8cbb1be2ddcdb119",
      "6eedf8ef4bf142cebe7eff57cb9e0a4a",
      "8d1711b0ac9a43708f0702b801540c77",
      "cce5fca94724456bad5e7ffebabf0c1d",
      "72388f8489354e86bac883ae758730b3",
      "237b97c1002e4ad181e0a92a3c8c3076",
      "1d19fdb0ec9b4c6b93a54f970206439b",
      "a26d6d1b45564613831a885a8a7e3f7c",
      "0bd52858bb8249089d734ae033dd7b3c",
      "dba0c5de852044358100a851f12e7c61",
      "a8797bc5d8f4466e9b7ae1a1fbfe5d3b",
      "c43afd3578124e268fbadfcd84142d18",
      "dc73f4d8a7fe4baead6b8b6433b12fc8",
      "5cb159aabfdf499f95ec090dec995f82",
      "8b093fb43af14e18ac4f2cbfad910fe0",
      "899abb3a40144ea587dc317cc0ecff44",
      "f37ee611845b400fafe3c56ebd2bcd48",
      "17e0591331514b24801821d4b36b6527",
      "2b14ebfc71ca4fa2a6094a1b191ee19a",
      "fa9e960f1a4348459acc3d41024e0a53",
      "15942eead6924fc78e79bdcefe58a23a",
      "ce85ba848f964cbc958d300e2b7827ce",
      "63ff3e8307d54ccba038fcf30c102766",
      "a77a169ccee84b5b9a0dd6c6b332e8c8",
      "c517a51093474aeaad8e006a7a4fc750",
      "f700daee315542ca8a522ae1f0cb5b5b",
      "e6253f0932394df592413669704a3815",
      "effec3bd47f64482b7c3e220c4ebb517",
      "8e1f3c34658141c888d4514841f5cedf",
      "2bee7eab4b4a4f33ac034cfc27cc38b0",
      "493f71a02ba2495d88c45736064ecdb2",
      "95f5fb4d0f444f469f96aecbb51715fa",
      "aec1892b3bc149dc9c4d462c0dd452eb",
      "5741d54c75514284beb9f551192b57df",
      "e4899177a97643bab66189b58e3fe033",
      "5d309a11b4684eb28660a546d083e2db",
      "0291da8d8bf146429a552c358e2bd77c",
      "9759065c1cb843928bebe5d963809687",
      "8ef7b896886f40e89efffdae33faa39b",
      "cb4011d742a64cafb40f893e02c28f53",
      "7260ac11b0424af1b408fc1cab5d46a8"
     ]
    },
    "id": "97c4O87t396j",
    "outputId": "4bd77232-5718-4041-e7a9-e07a761f5b52"
   },
   "outputs": [],
   "source": [
    "seg_output_dir.mkdir(parents=True, exist_ok=True)\n",
    "for img_path in list(data_dir.glob('**/*.png')):\n",
    "    print(f'Processing {str(img_path)}')\n",
    "\n",
    "    # process cropped image\n",
    "    img = Image.open(img_path)\n",
    "    img = img.convert(\"L\")\n",
    "    # print(img.format, img.size, img.mode)\n",
    "    labels = read_labels((label_dir / img_path.name).with_suffix('.txt'), img)\n",
    "    with tqdm(total=len(labels)) as pbar:\n",
    "        for index, r in labels.iterrows():\n",
    "            box = (r.x0, r.y0, r.x1, r.y1)\n",
    "            region = img.crop(box)\n",
    "            # region.show()\n",
    "            croped_savepath = seg_output_dir / f'{img_path.stem}_{index}{img_path.suffix}'\n",
    "            # print(croped_savepath, box)\n",
    "            region.save(croped_savepath)\n",
    "            pbar.update(1)"
   ]
  },
  {
   "cell_type": "code",
   "execution_count": null,
   "id": "ba4990fa-ac28-488d-88cf-248871acf702",
   "metadata": {
    "colab": {
     "base_uri": "https://localhost:8080/"
    },
    "id": "gJsAuh2V7kzZ",
    "outputId": "9f1b055b-8194-48ce-ca58-2bb73d2f42ef"
   },
   "outputs": [],
   "source": [
    "%cd 3_Segmentation_Model\n",
    "!python predict.py --config configs/dtsegnet/segformer_b1.yml --model_path {segmentation_model_path} --image_path /root/autodl-tmp/DT_SegNet/Dataset/Segmentation_Input/ --save_dir /root/autodl-tmp/DT_SegNet/Segmentation_Output/\n",
    "%cd .."
   ]
  },
  {
   "cell_type": "code",
   "execution_count": null,
   "id": "38605526-1dc2-46b4-83b4-43bdb6e19257",
   "metadata": {
    "id": "eR7py7Pw_Hkw"
   },
   "outputs": [],
   "source": [
    "data_dir = Path('/root/autodl-tmp/DT_SegNet/Dataset/test')\n",
    "seg_output_dir = Path('/root/autodl-tmp/DT_SegNet/Segmentation_Output/pseudo_color_prediction')\n",
    "label_dir = Path(detection_inference_exp_path) / 'labels'\n",
    "output_root = Path('/root/autodl-tmp/DT_SegNet/Output')\n",
    "output_root.mkdir(exist_ok=True, parents=True)"
   ]
  },
  {
   "cell_type": "code",
   "execution_count": null,
   "id": "0593365a-d932-4f72-94d6-564879aefcfe",
   "metadata": {
    "colab": {
     "base_uri": "https://localhost:8080/",
     "height": 1000,
     "referenced_widgets": [
      "fadcab61971b4a4b85fc5da26a26e840",
      "5cd2041b81674ce6939a6dcf7eabe8d8",
      "4ffd1f22233247abb3d1c0791cc4b477",
      "27fdd1d589d743099837e3b89a29ae04",
      "e7591723fa474fdc8dab87522a9cc7e8",
      "5f05debed5994bf68cc3ba4fc270f58b",
      "783c5e744eec448b94230f400fd85a2d",
      "5c5cf537a59444389e4fe0419c6be163",
      "fd7367e2b34d44f5ad9ef1719902452f",
      "f4f0ac4a2c8141ec91e5e5f8671ccc3e",
      "18e039f398fa4d3faf3b0232a4f2fed0",
      "8ccb31526993468891d43c7247a279b5",
      "38319e3defef4add9680eb2a73b89e9d",
      "37e4a0b1c16e405fa927fdda07ce5496",
      "00fd5f5c6c5e4dcf825522b0be0c8702",
      "59058738c904425ca47c477ed78009db",
      "86acd07853b7437c82a5499e27e19aa5",
      "4ad81230dbc4400eac4fa0a977e2cba0",
      "8b21f6be45a9415485243dfdf4ac5484",
      "2cbf9a247e0e49f8bb4fed8ebeec58f3",
      "b9ce5aeab7af43d986864f8689660984",
      "6132bc2bfb6f467a87213f095345f4e9",
      "574ccca3f76f4b5bb35d5d66d50a1b8d",
      "c3a3be517457495f8512a38937149b26",
      "d679833667ed4d73bd9bf52db6b24300",
      "9fc50afd1b724ca3a7e137c9dbd2ee2e",
      "cd72bd4c87754d4188da11f304d584ff",
      "40c0ad3394c04d09aedfdde91e57438b",
      "fad5983622984b779c7c115e0d38217a",
      "aa2dd9e6c50048de843214137127c9ce",
      "ce6bcf59bfd249daae23373a1d180e84",
      "563dc1c637bd42c389b3c56231852454",
      "a0bf68b31d2e4ccf856555a16dd84153",
      "1ba1012f59e4439db17513c4650fe777",
      "7e6da33e4bb8499db027a8fa360906fd",
      "e8f40231d4ed4f2b9d47b49ca2b9901a",
      "e3e8e3a0920b49a09206976d18180210",
      "4276b03f1faf4a798f37013f5a0a9d7e",
      "6dd1153242d147d6b3eb5555735e32d1",
      "228f57c9150a43abaf676f29a080455f",
      "984c46b66a04428d9e833515aeeb4d2a",
      "acd3c62cd9094624bb1f7eafc3acc698",
      "789bb20e777e4c159d574c9ff443a7f7",
      "c487e308d3e04ce4a812a5595abb9063",
      "a3c3150ab3844059b43a56b2dbff13ae",
      "f5226697f53e466da366931c54e67951",
      "0330a5bfab3c45a292e992d179826218",
      "11cb1760d121499cb91203a3be610b89",
      "16ffa30fbadc497d906f5c905e8cf2d3",
      "e4ebc88de4a84137bdec1fcb08651552",
      "f27efc009d5b45b2acfcb3efac8ffed7",
      "98c27857e877404c8511a75b0da387f6",
      "495e4e32dce2401fa72db12aa5ee393c",
      "ae6dc12fd28940c1bd2c5e9e32d19ba2",
      "0dac95784d62450182883dfa46be5498"
     ]
    },
    "id": "j7YkNioL_VVB",
    "outputId": "68d287d4-bc2b-4237-d08b-e59543295131"
   },
   "outputs": [],
   "source": [
    "for img_path in list(data_dir.glob('*.png')):\n",
    "    print(f'Processing {str(img_path)}')\n",
    "    img = Image.open(img_path)\n",
    "    img = img.convert(\"L\")\n",
    "    labels = read_labels((label_dir / img_path.name).with_suffix('.txt'), img)\n",
    "    output = np.zeros_like(img)\n",
    "    with tqdm(total=len(labels)) as pbar:\n",
    "        for index, r in labels.iterrows():\n",
    "            croped_path = seg_output_dir / f'{img_path.stem}_{index}{img_path.suffix}'\n",
    "            region = Image.open(croped_path)\n",
    "            np_region = np.array(region)\n",
    "            x0, x1, y0, y1 = int(r.x0), int(r.x1), int(r.y0), int(r.y1)\n",
    "            for x in range(x1-x0):\n",
    "                for y in range(y1-y0):\n",
    "                    y_out = y+y0\n",
    "                    x_out = x+x0\n",
    "                    y_out = max(0, y_out)\n",
    "                    x_out = max(0, x_out)\n",
    "                    y_out = min(output.shape[0]-1, y_out)\n",
    "                    x_out = min(output.shape[1]-1, x_out)\n",
    "                    output[y_out, x_out] += np_region[y, x] # add regions\n",
    "                    # output[y_out, x_out] = np_region[y, x] # replace regions\n",
    "            pbar.update(1)\n",
    "\n",
    "    output[output>=1]=1\n",
    "    data = np.array(output)\n",
    "    new_data = data.astype('uint8')\n",
    "    print(data.shape, new_data.shape, np.unique(new_data))\n",
    "    plt.imshow(new_data, interpolation='nearest', cmap='Greys')\n",
    "    # white background\n",
    "    plt.show()\n",
    "    np.save(output_root / f'{img_path.stem}.npy', new_data)\n",
    "    Image.fromarray(\n",
    "        new_data*255).save(output_root / f'{img_path.stem}.png')\n"
   ]
  }
 ],
 "metadata": {
  "kernelspec": {
   "display_name": "Python 3 (ipykernel)",
   "language": "python",
   "name": "python3"
  },
  "language_info": {
   "codemirror_mode": {
    "name": "ipython",
    "version": 3
   },
   "file_extension": ".py",
   "mimetype": "text/x-python",
   "name": "python",
   "nbconvert_exporter": "python",
   "pygments_lexer": "ipython3",
   "version": "3.8.10"
  }
 },
 "nbformat": 4,
 "nbformat_minor": 5
}
