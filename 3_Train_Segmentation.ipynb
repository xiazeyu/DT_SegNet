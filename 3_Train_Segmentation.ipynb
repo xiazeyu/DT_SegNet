{
  "cells": [
    {
      "cell_type": "markdown",
      "metadata": {
        "id": "ENGdLb-vBpcb"
      },
      "source": [
        "# Import packages"
      ]
    },
    {
      "cell_type": "code",
      "execution_count": 1,
      "metadata": {
        "id": "nw3ipHHaCS6Q"
      },
      "outputs": [],
      "source": [
        "from pathlib import Path\n"
      ]
    },
    {
      "cell_type": "markdown",
      "metadata": {
        "id": "h0JxsE4LBxaR"
      },
      "source": [
        "# Download codes, mount Google Drive folder"
      ]
    },
    {
      "cell_type": "code",
      "execution_count": 2,
      "metadata": {
        "colab": {
          "base_uri": "https://localhost:8080/"
        },
        "id": "5N-aTosRC2wU",
        "outputId": "5ea6a659-5844-4012-c299-fd40fe6af7a5"
      },
      "outputs": [
        {
          "output_type": "stream",
          "name": "stdout",
          "text": [
            "Cloning into 'DT_SegNet'...\n",
            "remote: Enumerating objects: 667, done.\u001b[K\n",
            "remote: Counting objects: 100% (420/420), done.\u001b[K\n",
            "remote: Compressing objects: 100% (344/344), done.\u001b[K\n",
            "remote: Total 667 (delta 76), reused 412 (delta 70), pack-reused 247\u001b[K\n",
            "Receiving objects: 100% (667/667), 13.32 MiB | 11.29 MiB/s, done.\n",
            "Resolving deltas: 100% (114/114), done.\n",
            "/content/DT_SegNet\n"
          ]
        }
      ],
      "source": [
        "!git clone https://github.com/xiazeyu/DT_SegNet.git\n",
        "%cd DT_SegNet\n"
      ]
    },
    {
      "cell_type": "code",
      "execution_count": 3,
      "metadata": {
        "colab": {
          "base_uri": "https://localhost:8080/"
        },
        "id": "UkdG7vzWBwm2",
        "outputId": "be5d8ca8-e28d-4ce1-8c32-97eeedc99676"
      },
      "outputs": [
        {
          "output_type": "stream",
          "name": "stdout",
          "text": [
            "Mounted at /content/drive\n"
          ]
        }
      ],
      "source": [
        "from google.colab import drive\n",
        "drive.mount('/content/drive')\n"
      ]
    },
    {
      "cell_type": "markdown",
      "metadata": {
        "id": "ZJ2mrQ2QHGkn"
      },
      "source": [
        "# Install dependencies"
      ]
    },
    {
      "cell_type": "code",
      "execution_count": 4,
      "metadata": {
        "colab": {
          "base_uri": "https://localhost:8080/"
        },
        "id": "tPlW3oTOEso6",
        "outputId": "35ef8082-1423-43bd-e7a6-8ca99f7151b7"
      },
      "outputs": [
        {
          "output_type": "stream",
          "name": "stdout",
          "text": [
            "Wed Jan  4 16:57:36 2023       \n",
            "+-----------------------------------------------------------------------------+\n",
            "| NVIDIA-SMI 460.32.03    Driver Version: 460.32.03    CUDA Version: 11.2     |\n",
            "|-------------------------------+----------------------+----------------------+\n",
            "| GPU  Name        Persistence-M| Bus-Id        Disp.A | Volatile Uncorr. ECC |\n",
            "| Fan  Temp  Perf  Pwr:Usage/Cap|         Memory-Usage | GPU-Util  Compute M. |\n",
            "|                               |                      |               MIG M. |\n",
            "|===============================+======================+======================|\n",
            "|   0  Tesla T4            Off  | 00000000:00:04.0 Off |                    0 |\n",
            "| N/A   67C    P0    30W /  70W |      0MiB / 15109MiB |      0%      Default |\n",
            "|                               |                      |                  N/A |\n",
            "+-------------------------------+----------------------+----------------------+\n",
            "                                                                               \n",
            "+-----------------------------------------------------------------------------+\n",
            "| Processes:                                                                  |\n",
            "|  GPU   GI   CI        PID   Type   Process name                  GPU Memory |\n",
            "|        ID   ID                                                   Usage      |\n",
            "|=============================================================================|\n",
            "|  No running processes found                                                 |\n",
            "+-----------------------------------------------------------------------------+\n"
          ]
        }
      ],
      "source": [
        "!nvidia-smi\n"
      ]
    },
    {
      "cell_type": "code",
      "execution_count": 5,
      "metadata": {
        "colab": {
          "base_uri": "https://localhost:8080/"
        },
        "id": "mSLn_qyhEuT_",
        "outputId": "43db05b1-9293-40f4-dcf2-b5f94e52c01d"
      },
      "outputs": [
        {
          "output_type": "stream",
          "name": "stdout",
          "text": [
            "Looking in indexes: https://pypi.org/simple, https://us-python.pkg.dev/colab-wheels/public/simple/\n",
            "Looking in links: https://www.paddlepaddle.org.cn/whl/linux/mkl/avx/stable.html\n",
            "Collecting paddlepaddle-gpu==2.4.1.post112\n",
            "  Downloading https://paddle-wheel.bj.bcebos.com/2.4.1/linux/linux-gpu-cuda11.2-cudnn8-mkl-gcc8.2-avx/paddlepaddle_gpu-2.4.1.post112-cp38-cp38-linux_x86_64.whl (547.9 MB)\n",
            "\u001b[2K     \u001b[90m━━━━━━━━━━━━━━━━━━━━━━━━━━━━━━━━━━━━━━━\u001b[0m \u001b[32m547.9/547.9 MB\u001b[0m \u001b[31m2.8 MB/s\u001b[0m eta \u001b[36m0:00:00\u001b[0m\n",
            "\u001b[?25hRequirement already satisfied: decorator in /usr/local/lib/python3.8/dist-packages (from paddlepaddle-gpu==2.4.1.post112) (4.4.2)\n",
            "Requirement already satisfied: astor in /usr/local/lib/python3.8/dist-packages (from paddlepaddle-gpu==2.4.1.post112) (0.8.1)\n",
            "Collecting paddle-bfloat==0.1.7\n",
            "  Downloading paddle_bfloat-0.1.7-cp38-cp38-manylinux_2_17_x86_64.manylinux2014_x86_64.whl (385 kB)\n",
            "\u001b[2K     \u001b[90m━━━━━━━━━━━━━━━━━━━━━━━━━━━━━━━━━━━━━━━\u001b[0m \u001b[32m385.5/385.5 KB\u001b[0m \u001b[31m2.4 MB/s\u001b[0m eta \u001b[36m0:00:00\u001b[0m\n",
            "\u001b[?25hRequirement already satisfied: opt-einsum==3.3.0 in /usr/local/lib/python3.8/dist-packages (from paddlepaddle-gpu==2.4.1.post112) (3.3.0)\n",
            "Requirement already satisfied: Pillow in /usr/local/lib/python3.8/dist-packages (from paddlepaddle-gpu==2.4.1.post112) (7.1.2)\n",
            "Requirement already satisfied: requests>=2.20.0 in /usr/local/lib/python3.8/dist-packages (from paddlepaddle-gpu==2.4.1.post112) (2.25.1)\n",
            "Requirement already satisfied: six in /usr/local/lib/python3.8/dist-packages (from paddlepaddle-gpu==2.4.1.post112) (1.15.0)\n",
            "Requirement already satisfied: numpy>=1.13 in /usr/local/lib/python3.8/dist-packages (from paddlepaddle-gpu==2.4.1.post112) (1.21.6)\n",
            "Requirement already satisfied: protobuf<=3.20.0,>=3.1.0 in /usr/local/lib/python3.8/dist-packages (from paddlepaddle-gpu==2.4.1.post112) (3.19.6)\n",
            "Requirement already satisfied: certifi>=2017.4.17 in /usr/local/lib/python3.8/dist-packages (from requests>=2.20.0->paddlepaddle-gpu==2.4.1.post112) (2022.12.7)\n",
            "Requirement already satisfied: idna<3,>=2.5 in /usr/local/lib/python3.8/dist-packages (from requests>=2.20.0->paddlepaddle-gpu==2.4.1.post112) (2.10)\n",
            "Requirement already satisfied: urllib3<1.27,>=1.21.1 in /usr/local/lib/python3.8/dist-packages (from requests>=2.20.0->paddlepaddle-gpu==2.4.1.post112) (1.24.3)\n",
            "Requirement already satisfied: chardet<5,>=3.0.2 in /usr/local/lib/python3.8/dist-packages (from requests>=2.20.0->paddlepaddle-gpu==2.4.1.post112) (4.0.0)\n",
            "Installing collected packages: paddle-bfloat, paddlepaddle-gpu\n",
            "Successfully installed paddle-bfloat-0.1.7 paddlepaddle-gpu-2.4.1.post112\n",
            "Looking in indexes: https://pypi.org/simple, https://us-python.pkg.dev/colab-wheels/public/simple/\n",
            "Requirement already satisfied: pyyaml>=5.1 in /usr/local/lib/python3.8/dist-packages (from -r 3_Segmentation_Model/requirements.txt (line 1)) (6.0)\n",
            "Collecting visualdl>=2.2.0\n",
            "  Downloading visualdl-2.4.2-py3-none-any.whl (4.9 MB)\n",
            "\u001b[2K     \u001b[90m━━━━━━━━━━━━━━━━━━━━━━━━━━━━━━━━━━━━━━━━\u001b[0m \u001b[32m4.9/4.9 MB\u001b[0m \u001b[31m82.0 MB/s\u001b[0m eta \u001b[36m0:00:00\u001b[0m\n",
            "\u001b[?25hRequirement already satisfied: opencv-python in /usr/local/lib/python3.8/dist-packages (from -r 3_Segmentation_Model/requirements.txt (line 3)) (4.6.0.66)\n",
            "Requirement already satisfied: tqdm in /usr/local/lib/python3.8/dist-packages (from -r 3_Segmentation_Model/requirements.txt (line 4)) (4.64.1)\n",
            "Requirement already satisfied: filelock in /usr/local/lib/python3.8/dist-packages (from -r 3_Segmentation_Model/requirements.txt (line 5)) (3.8.2)\n",
            "Requirement already satisfied: scipy in /usr/local/lib/python3.8/dist-packages (from -r 3_Segmentation_Model/requirements.txt (line 6)) (1.7.3)\n",
            "Requirement already satisfied: prettytable in /usr/local/lib/python3.8/dist-packages (from -r 3_Segmentation_Model/requirements.txt (line 7)) (3.5.0)\n",
            "Collecting sklearn==0.0\n",
            "  Downloading sklearn-0.0.tar.gz (1.1 kB)\n",
            "  Preparing metadata (setup.py) ... \u001b[?25l\u001b[?25hdone\n",
            "Requirement already satisfied: scikit-learn in /usr/local/lib/python3.8/dist-packages (from sklearn==0.0->-r 3_Segmentation_Model/requirements.txt (line 8)) (1.0.2)\n",
            "Requirement already satisfied: flask>=1.1.1 in /usr/local/lib/python3.8/dist-packages (from visualdl>=2.2.0->-r 3_Segmentation_Model/requirements.txt (line 2)) (1.1.4)\n",
            "Collecting bce-python-sdk\n",
            "  Downloading bce_python_sdk-0.8.74-py3-none-any.whl (204 kB)\n",
            "\u001b[2K     \u001b[90m━━━━━━━━━━━━━━━━━━━━━━━━━━━━━━━━━━━━━━\u001b[0m \u001b[32m204.6/204.6 KB\u001b[0m \u001b[31m26.2 MB/s\u001b[0m eta \u001b[36m0:00:00\u001b[0m\n",
            "\u001b[?25hRequirement already satisfied: packaging in /usr/local/lib/python3.8/dist-packages (from visualdl>=2.2.0->-r 3_Segmentation_Model/requirements.txt (line 2)) (21.3)\n",
            "Requirement already satisfied: requests in /usr/local/lib/python3.8/dist-packages (from visualdl>=2.2.0->-r 3_Segmentation_Model/requirements.txt (line 2)) (2.25.1)\n",
            "Requirement already satisfied: Pillow>=7.0.0 in /usr/local/lib/python3.8/dist-packages (from visualdl>=2.2.0->-r 3_Segmentation_Model/requirements.txt (line 2)) (7.1.2)\n",
            "Requirement already satisfied: protobuf>=3.11.0 in /usr/local/lib/python3.8/dist-packages (from visualdl>=2.2.0->-r 3_Segmentation_Model/requirements.txt (line 2)) (3.19.6)\n",
            "Collecting multiprocess\n",
            "  Downloading multiprocess-0.70.14-py38-none-any.whl (132 kB)\n",
            "\u001b[2K     \u001b[90m━━━━━━━━━━━━━━━━━━━━━━━━━━━━━━━━━━━━━━\u001b[0m \u001b[32m132.0/132.0 KB\u001b[0m \u001b[31m18.9 MB/s\u001b[0m eta \u001b[36m0:00:00\u001b[0m\n",
            "\u001b[?25hCollecting Flask-Babel>=1.0.0\n",
            "  Downloading Flask_Babel-2.0.0-py3-none-any.whl (9.3 kB)\n",
            "Requirement already satisfied: six>=1.14.0 in /usr/local/lib/python3.8/dist-packages (from visualdl>=2.2.0->-r 3_Segmentation_Model/requirements.txt (line 2)) (1.15.0)\n",
            "Requirement already satisfied: numpy in /usr/local/lib/python3.8/dist-packages (from visualdl>=2.2.0->-r 3_Segmentation_Model/requirements.txt (line 2)) (1.21.6)\n",
            "Requirement already satisfied: matplotlib in /usr/local/lib/python3.8/dist-packages (from visualdl>=2.2.0->-r 3_Segmentation_Model/requirements.txt (line 2)) (3.2.2)\n",
            "Requirement already satisfied: pandas in /usr/local/lib/python3.8/dist-packages (from visualdl>=2.2.0->-r 3_Segmentation_Model/requirements.txt (line 2)) (1.3.5)\n",
            "Requirement already satisfied: wcwidth in /usr/local/lib/python3.8/dist-packages (from prettytable->-r 3_Segmentation_Model/requirements.txt (line 7)) (0.2.5)\n",
            "Requirement already satisfied: itsdangerous<2.0,>=0.24 in /usr/local/lib/python3.8/dist-packages (from flask>=1.1.1->visualdl>=2.2.0->-r 3_Segmentation_Model/requirements.txt (line 2)) (1.1.0)\n",
            "Requirement already satisfied: Jinja2<3.0,>=2.10.1 in /usr/local/lib/python3.8/dist-packages (from flask>=1.1.1->visualdl>=2.2.0->-r 3_Segmentation_Model/requirements.txt (line 2)) (2.11.3)\n",
            "Requirement already satisfied: Werkzeug<2.0,>=0.15 in /usr/local/lib/python3.8/dist-packages (from flask>=1.1.1->visualdl>=2.2.0->-r 3_Segmentation_Model/requirements.txt (line 2)) (1.0.1)\n",
            "Requirement already satisfied: click<8.0,>=5.1 in /usr/local/lib/python3.8/dist-packages (from flask>=1.1.1->visualdl>=2.2.0->-r 3_Segmentation_Model/requirements.txt (line 2)) (7.1.2)\n",
            "Requirement already satisfied: Babel>=2.3 in /usr/local/lib/python3.8/dist-packages (from Flask-Babel>=1.0.0->visualdl>=2.2.0->-r 3_Segmentation_Model/requirements.txt (line 2)) (2.11.0)\n",
            "Requirement already satisfied: pytz in /usr/local/lib/python3.8/dist-packages (from Flask-Babel>=1.0.0->visualdl>=2.2.0->-r 3_Segmentation_Model/requirements.txt (line 2)) (2022.7)\n",
            "Requirement already satisfied: future>=0.6.0 in /usr/local/lib/python3.8/dist-packages (from bce-python-sdk->visualdl>=2.2.0->-r 3_Segmentation_Model/requirements.txt (line 2)) (0.16.0)\n",
            "Collecting pycryptodome>=3.8.0\n",
            "  Downloading pycryptodome-3.16.0-cp35-abi3-manylinux_2_5_x86_64.manylinux1_x86_64.manylinux_2_12_x86_64.manylinux2010_x86_64.whl (2.3 MB)\n",
            "\u001b[2K     \u001b[90m━━━━━━━━━━━━━━━━━━━━━━━━━━━━━━━━━━━━━━━━\u001b[0m \u001b[32m2.3/2.3 MB\u001b[0m \u001b[31m89.4 MB/s\u001b[0m eta \u001b[36m0:00:00\u001b[0m\n",
            "\u001b[?25hRequirement already satisfied: cycler>=0.10 in /usr/local/lib/python3.8/dist-packages (from matplotlib->visualdl>=2.2.0->-r 3_Segmentation_Model/requirements.txt (line 2)) (0.11.0)\n",
            "Requirement already satisfied: pyparsing!=2.0.4,!=2.1.2,!=2.1.6,>=2.0.1 in /usr/local/lib/python3.8/dist-packages (from matplotlib->visualdl>=2.2.0->-r 3_Segmentation_Model/requirements.txt (line 2)) (3.0.9)\n",
            "Requirement already satisfied: kiwisolver>=1.0.1 in /usr/local/lib/python3.8/dist-packages (from matplotlib->visualdl>=2.2.0->-r 3_Segmentation_Model/requirements.txt (line 2)) (1.4.4)\n",
            "Requirement already satisfied: python-dateutil>=2.1 in /usr/local/lib/python3.8/dist-packages (from matplotlib->visualdl>=2.2.0->-r 3_Segmentation_Model/requirements.txt (line 2)) (2.8.2)\n",
            "Requirement already satisfied: dill>=0.3.6 in /usr/local/lib/python3.8/dist-packages (from multiprocess->visualdl>=2.2.0->-r 3_Segmentation_Model/requirements.txt (line 2)) (0.3.6)\n",
            "Requirement already satisfied: certifi>=2017.4.17 in /usr/local/lib/python3.8/dist-packages (from requests->visualdl>=2.2.0->-r 3_Segmentation_Model/requirements.txt (line 2)) (2022.12.7)\n",
            "Requirement already satisfied: chardet<5,>=3.0.2 in /usr/local/lib/python3.8/dist-packages (from requests->visualdl>=2.2.0->-r 3_Segmentation_Model/requirements.txt (line 2)) (4.0.0)\n",
            "Requirement already satisfied: urllib3<1.27,>=1.21.1 in /usr/local/lib/python3.8/dist-packages (from requests->visualdl>=2.2.0->-r 3_Segmentation_Model/requirements.txt (line 2)) (1.24.3)\n",
            "Requirement already satisfied: idna<3,>=2.5 in /usr/local/lib/python3.8/dist-packages (from requests->visualdl>=2.2.0->-r 3_Segmentation_Model/requirements.txt (line 2)) (2.10)\n",
            "Requirement already satisfied: threadpoolctl>=2.0.0 in /usr/local/lib/python3.8/dist-packages (from scikit-learn->sklearn==0.0->-r 3_Segmentation_Model/requirements.txt (line 8)) (3.1.0)\n",
            "Requirement already satisfied: joblib>=0.11 in /usr/local/lib/python3.8/dist-packages (from scikit-learn->sklearn==0.0->-r 3_Segmentation_Model/requirements.txt (line 8)) (1.2.0)\n",
            "Requirement already satisfied: MarkupSafe>=0.23 in /usr/local/lib/python3.8/dist-packages (from Jinja2<3.0,>=2.10.1->flask>=1.1.1->visualdl>=2.2.0->-r 3_Segmentation_Model/requirements.txt (line 2)) (2.0.1)\n",
            "Building wheels for collected packages: sklearn\n",
            "  Building wheel for sklearn (setup.py) ... \u001b[?25l\u001b[?25hdone\n",
            "  Created wheel for sklearn: filename=sklearn-0.0-py2.py3-none-any.whl size=1309 sha256=e738f4bc509f6bf285a41d15e7e018cbefaa404b03c5cbdf557f5cec5823b8c1\n",
            "  Stored in directory: /root/.cache/pip/wheels/22/0b/40/fd3f795caaa1fb4c6cb738bc1f56100be1e57da95849bfc897\n",
            "Successfully built sklearn\n",
            "Installing collected packages: pycryptodome, multiprocess, bce-python-sdk, sklearn, Flask-Babel, visualdl\n",
            "Successfully installed Flask-Babel-2.0.0 bce-python-sdk-0.8.74 multiprocess-0.70.14 pycryptodome-3.16.0 sklearn-0.0 visualdl-2.4.2\n"
          ]
        }
      ],
      "source": [
        "# ensure CUDA vision are the same\n",
        "%pip install paddlepaddle-gpu==2.4.1.post112 -f https://www.paddlepaddle.org.cn/whl/linux/mkl/avx/stable.html\n",
        "%pip install -r 3_Segmentation_Model/requirements.txt\n"
      ]
    },
    {
      "cell_type": "markdown",
      "metadata": {
        "id": "KMAnyphqHWkM"
      },
      "source": [
        "# Checks"
      ]
    },
    {
      "cell_type": "code",
      "execution_count": 6,
      "metadata": {
        "colab": {
          "base_uri": "https://localhost:8080/"
        },
        "id": "pDQJdMhSFHWf",
        "outputId": "23158b28-a854-4d43-b192-f24505bb456d"
      },
      "outputs": [
        {
          "output_type": "stream",
          "name": "stdout",
          "text": [
            "Running verify PaddlePaddle program ... \n",
            "PaddlePaddle works well on 1 GPU.\n",
            "PaddlePaddle works well on 1 GPUs.\n",
            "PaddlePaddle is installed successfully! Let's start deep learning with PaddlePaddle now.\n",
            "2.4.1\n"
          ]
        }
      ],
      "source": [
        "import paddle\n",
        "\n",
        "paddle.utils.run_check()\n",
        "print(paddle.__version__)\n"
      ]
    },
    {
      "cell_type": "markdown",
      "metadata": {
        "id": "4jei73ZlIvnv"
      },
      "source": [
        "# Train model"
      ]
    },
    {
      "cell_type": "code",
      "execution_count": 7,
      "metadata": {
        "id": "FoEGlZiQnuSx"
      },
      "outputs": [],
      "source": [
        "# Unzip dataset\n",
        "!unzip -q /content/drive/MyDrive/DT-SegNet/Segmentation_Dataset.zip -d /\n"
      ]
    },
    {
      "cell_type": "code",
      "execution_count": 8,
      "metadata": {
        "colab": {
          "base_uri": "https://localhost:8080/"
        },
        "id": "vWgZLXYeHVCU",
        "outputId": "9e02c9e5-3536-483b-e8ad-5ec3fa070d9e"
      },
      "outputs": [
        {
          "output_type": "stream",
          "name": "stdout",
          "text": [
            "/content/DT_SegNet/3_Segmentation_Model\n"
          ]
        }
      ],
      "source": [
        "%cd 3_Segmentation_Model\n",
        "Path('/content/drive/MyDrive/DT-SegNet/Segmentation_Model_Output').mkdir(parents=True, exist_ok=True)\n"
      ]
    },
    {
      "cell_type": "code",
      "execution_count": 9,
      "metadata": {
        "colab": {
          "base_uri": "https://localhost:8080/"
        },
        "id": "GAv-W2w_o5AT",
        "outputId": "1f42190c-7ddd-4a57-b4d6-5db474537a25"
      },
      "outputs": [
        {
          "output_type": "stream",
          "name": "stdout",
          "text": [
            "/content/DT_SegNet/3_Segmentation_Model/paddleseg/models/losses/rmi_loss.py:73: DeprecationWarning: invalid escape sequence \\i\n",
            "  \"\"\"\n",
            "W0104 16:59:56.296306  1437 gpu_resources.cc:61] Please NOTE: device: 0, GPU Compute Capability: 7.5, Driver API Version: 11.2, Runtime API Version: 11.2\n",
            "W0104 16:59:56.296408  1437 gpu_resources.cc:91] device: 0, cuDNN Version: 8.1.\n",
            "W0104 17:00:14.406817  1437 gpu_resources.cc:217] WARNING: device: \u0000. The installed Paddle is compiled with CUDNN 8.2, but CUDNN version in your machine is 8.1, which may cause serious incompatible bug. Please recompile or reinstall Paddle with compatible CUDNN version.\n",
            "/usr/local/lib/python3.8/dist-packages/paddle/nn/layer/norm.py:711: UserWarning: When training, we now always track global mean and variance.\n",
            "  warnings.warn(\n",
            "/usr/local/lib/python3.8/dist-packages/paddle/fluid/dygraph/math_op_patch.py:275: UserWarning: The dtype of left and right variables are not the same, left dtype is paddle.float32, but right dtype is paddle.int64, the right dtype will convert to paddle.float32\n",
            "  warnings.warn(\n",
            "/content/DT_SegNet/3_Segmentation_Model/paddleseg/core/infer.py:98: DeprecationWarning: `np.int` is a deprecated alias for the builtin `int`. To silence this warning, use `int` by itself. Doing this will not modify any behavior and is safe. When replacing `np.int`, you may wish to use e.g. `np.int64` or `np.int32` to specify the precision. If you wish to review your current use, check the release note link for additional information.\n",
            "Deprecated in NumPy 1.20; for more details and guidance: https://numpy.org/devdocs/release/1.20.0-notes.html#deprecations\n",
            "  rows = np.int(np.ceil(1.0 * (h_im - h_crop) / h_stride)) + 1\n",
            "/content/DT_SegNet/3_Segmentation_Model/paddleseg/core/infer.py:99: DeprecationWarning: `np.int` is a deprecated alias for the builtin `int`. To silence this warning, use `int` by itself. Doing this will not modify any behavior and is safe. When replacing `np.int`, you may wish to use e.g. `np.int64` or `np.int32` to specify the precision. If you wish to review your current use, check the release note link for additional information.\n",
            "Deprecated in NumPy 1.20; for more details and guidance: https://numpy.org/devdocs/release/1.20.0-notes.html#deprecations\n",
            "  cols = np.int(np.ceil(1.0 * (w_im - w_crop) / w_stride)) + 1\n",
            "355/355 [==============================] - 11s 30ms/step - batch_cost: 0.0300 - reader cost: 4.6529e-04\n"
          ]
        }
      ],
      "source": [
        "# Test run (optional)\n",
        "!python train.py --iters 100 --seed 0 --config configs/dtsegnet/segformer_b1.yml --do_eval --use_vdl --save_interval 100 --save_dir \"/content/drive/MyDrive/DT-SegNet/Segmentation_Model_Output/B1\" > \"/content/drive/MyDrive/DT-SegNet/Segmentation_Model_Output/B1.log\"\n"
      ]
    },
    {
      "cell_type": "code",
      "execution_count": null,
      "metadata": {
        "id": "lCbiNIyhSCPJ"
      },
      "outputs": [],
      "source": [
        "# SegFormer B0\n",
        "!python train.py --seed 0 --config configs/dtsegnet/segformer_b0.yml --do_eval --use_vdl --save_interval 100 --save_dir \"/content/drive/MyDrive/DT-SegNet/Segmentation_Model_Output/B0\" > \"/content/drive/MyDrive/DT-SegNet/Segmentation_Model_Output/B0.log\"\n"
      ]
    },
    {
      "cell_type": "code",
      "execution_count": null,
      "metadata": {
        "id": "F8fiqCRWSDXd"
      },
      "outputs": [],
      "source": [
        "# SegFormer B1\n",
        "!python train.py --seed 0 --config configs/dtsegnet/segformer_b1.yml --do_eval --use_vdl --save_interval 100 --save_dir \"/content/drive/MyDrive/DT-SegNet/Segmentation_Model_Output/B1\" > \"/content/drive/MyDrive/DT-SegNet/Segmentation_Model_Output/B1.log\"\n"
      ]
    },
    {
      "cell_type": "markdown",
      "metadata": {
        "id": "O7SaHNAEp548"
      },
      "source": [
        "# Save to Google Drive"
      ]
    },
    {
      "cell_type": "code",
      "execution_count": 10,
      "metadata": {
        "id": "vuWi2Csfp9Jd"
      },
      "outputs": [],
      "source": [
        "drive.flush_and_unmount()\n"
      ]
    }
  ],
  "metadata": {
    "accelerator": "GPU",
    "colab": {
      "provenance": []
    },
    "gpuClass": "standard",
    "kernelspec": {
      "display_name": "base",
      "language": "python",
      "name": "python3"
    },
    "language_info": {
      "name": "python",
      "version": "3.9.12 (main, Apr  4 2022, 05:22:27) [MSC v.1916 64 bit (AMD64)]"
    },
    "vscode": {
      "interpreter": {
        "hash": "6f8b7e631145923c34cecc001da68a352a16d2d23361f9fbf214a3aa4e404855"
      }
    }
  },
  "nbformat": 4,
  "nbformat_minor": 0
}